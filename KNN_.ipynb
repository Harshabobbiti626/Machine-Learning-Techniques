{
  "nbformat": 4,
  "nbformat_minor": 0,
  "metadata": {
    "colab": {
      "provenance": [],
      "mount_file_id": "1WNsmpLg1z4xcH3GwHO6kaDDUw-m8XJ-_",
      "authorship_tag": "ABX9TyMP3/77FaBIczcNkbne1JqL",
      "include_colab_link": true
    },
    "kernelspec": {
      "name": "python3",
      "display_name": "Python 3"
    },
    "language_info": {
      "name": "python"
    }
  },
  "cells": [
    {
      "cell_type": "markdown",
      "metadata": {
        "id": "view-in-github",
        "colab_type": "text"
      },
      "source": [
        "<a href=\"https://colab.research.google.com/github/Harshabobbiti626/Machine-Learning-Techniques/blob/main/KNN_.ipynb\" target=\"_parent\"><img src=\"https://colab.research.google.com/assets/colab-badge.svg\" alt=\"Open In Colab\"/></a>"
      ]
    },
    {
      "cell_type": "markdown",
      "source": [
        "#KNN Algorithm#"
      ],
      "metadata": {
        "id": "nOSMXw5qedhM"
      }
    },
    {
      "cell_type": "markdown",
      "source": [
        "The k-nearest neighbors (KNN) algorithm is a supervised machine learning algorithm that is used for classification and regression. In the KNN algorithm, the basic idea is to predict the target variable of a new data point based on the values of the nearest k data points in the training set.\n",
        "\n",
        "**KNN working:**\n",
        "\n",
        "Determine the number of nearest neighbors, k, that will be used to make the prediction.\n",
        "\n",
        "Calculate the distance between the new data point and all the data points in the training set.\n",
        "\n",
        "Select the k nearest neighbors based on their distance from the new data point.\n",
        "\n",
        "For classification problems, the most common class among the k nearest neighbors is assigned to the new data point. For regression problems, the average or the mean of the values of the k nearest neighbors is used to make the prediction.\n",
        "\n",
        "The KNN algorithm is simple and easy to implement, but it requires a large amount of memory to store the entire training set. It is also sensitive to the choice of k, so choosing an appropriate value for k is an important step in the implementation of the KNN algorithm."
      ],
      "metadata": {
        "id": "uobFmFOb6093"
      }
    },
    {
      "cell_type": "code",
      "execution_count": 6,
      "metadata": {
        "id": "eVkUL8F2E7ox"
      },
      "outputs": [],
      "source": [
        "import numpy as np\n",
        "import matplotlib.pyplot as plt\n",
        "import pandas as pd"
      ]
    },
    {
      "cell_type": "code",
      "source": [
        "headernames = ['sepal-length', 'sepal-width', 'petal-length', 'petal-width', 'Class']"
      ],
      "metadata": {
        "id": "iysSjBzXODgV"
      },
      "execution_count": 7,
      "outputs": []
    },
    {
      "cell_type": "code",
      "source": [
        "dataset = pd.read_csv('/content/drive/MyDrive/Colab Notebooks/Machine Learning datasets/iris.data', names = headernames)\n",
        "dataset.head()"
      ],
      "metadata": {
        "id": "QBGXpEVxOKC3"
      },
      "execution_count": 15,
      "outputs": []
    },
    {
      "cell_type": "code",
      "source": [
        "X = dataset.iloc[:, :-1].values\n",
        "y = dataset.iloc[:, 4].values"
      ],
      "metadata": {
        "colab": {
          "base_uri": "https://localhost:8080/"
        },
        "id": "5KDjocunPNsT",
        "outputId": "f8eb41d7-b6dd-4486-983f-788aa0588ed6"
      },
      "execution_count": 16,
      "outputs": [
        {
          "output_type": "execute_result",
          "data": {
            "text/plain": [
              "KNeighborsRegressor(n_neighbors=10)"
            ]
          },
          "metadata": {},
          "execution_count": 16
        }
      ]
    },
    {
      "cell_type": "code",
      "source": [
        "from sklearn.model_selection import train_test_split\n",
        "X_train, X_test, y_train, y_test = train_test_split(X, y, test_size = 0.40)"
      ],
      "metadata": {
        "id": "_COJq4HaQpmg"
      },
      "execution_count": 21,
      "outputs": []
    },
    {
      "cell_type": "code",
      "source": [
        "from sklearn.preprocessing import StandardScaler\n",
        "scaler = StandardScaler()\n",
        "scaler.fit(X_train)\n",
        "X_train = scaler.transform(X_train)\n",
        "X_test = scaler.transform(X_test)"
      ],
      "metadata": {
        "id": "hAwqdGLqQsZ6"
      },
      "execution_count": 22,
      "outputs": []
    },
    {
      "cell_type": "code",
      "source": [
        "from sklearn.neighbors import KNeighborsClassifier\n",
        "classifier = KNeighborsClassifier(n_neighbors = 8)\n",
        "classifier.fit(X_train, y_train)"
      ],
      "metadata": {
        "colab": {
          "base_uri": "https://localhost:8080/"
        },
        "id": "QFqNZaB2Qvl-",
        "outputId": "b0d13cbf-f6c1-42f0-e7a3-b98ee988be4e"
      },
      "execution_count": 23,
      "outputs": [
        {
          "output_type": "execute_result",
          "data": {
            "text/plain": [
              "KNeighborsClassifier(n_neighbors=8)"
            ]
          },
          "metadata": {},
          "execution_count": 23
        }
      ]
    },
    {
      "cell_type": "code",
      "source": [
        "y_pred = classifier.predict(X_test)"
      ],
      "metadata": {
        "id": "iVEhIf3hQzU8"
      },
      "execution_count": 13,
      "outputs": []
    },
    {
      "cell_type": "code",
      "source": [
        "from sklearn.metrics import classification_report, confusion_matrix, accuracy_score\n",
        "result = confusion_matrix(y_test, y_pred)\n",
        "print(\"Confusion Matrix:\")\n",
        "print(result)\n",
        "result1 = classification_report(y_test, y_pred)\n",
        "print(\"Classification Report:\",)\n",
        "print (result1)\n",
        "result2 = accuracy_score(y_test,y_pred)\n",
        "print(\"Accuracy:\",result2)"
      ],
      "metadata": {
        "colab": {
          "base_uri": "https://localhost:8080/"
        },
        "id": "dZkWmJr4Q2Gy",
        "outputId": "20d9e776-1e8f-47ed-d3af-fd9185527907"
      },
      "execution_count": 14,
      "outputs": [
        {
          "output_type": "stream",
          "name": "stdout",
          "text": [
            "Confusion Matrix:\n",
            "[[14  0  0]\n",
            " [ 0 21  1]\n",
            " [ 0  2 22]]\n",
            "Classification Report:\n",
            "                 precision    recall  f1-score   support\n",
            "\n",
            "    Iris-setosa       1.00      1.00      1.00        14\n",
            "Iris-versicolor       0.91      0.95      0.93        22\n",
            " Iris-virginica       0.96      0.92      0.94        24\n",
            "\n",
            "       accuracy                           0.95        60\n",
            "      macro avg       0.96      0.96      0.96        60\n",
            "   weighted avg       0.95      0.95      0.95        60\n",
            "\n",
            "Accuracy: 0.95\n"
          ]
        }
      ]
    },
    {
      "cell_type": "code",
      "source": [],
      "metadata": {
        "id": "3g6ToefYeqwl"
      },
      "execution_count": null,
      "outputs": []
    }
  ]
}